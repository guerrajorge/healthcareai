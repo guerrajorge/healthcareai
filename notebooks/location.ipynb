{
 "cells": [
  {
   "cell_type": "markdown",
   "metadata": {},
   "source": [
    "https://github.com/MacHu-GWU/uszipcode-project"
   ]
  },
  {
   "cell_type": "code",
   "execution_count": 1,
   "metadata": {},
   "outputs": [],
   "source": [
    "import os\n",
    "from pathlib import Path\n",
    "import sys"
   ]
  },
  {
   "cell_type": "code",
   "execution_count": 2,
   "metadata": {},
   "outputs": [
    {
     "name": "stdout",
     "output_type": "stream",
     "text": [
      "project path = /home/guerramarj/github/healthcareai\n",
      "data path = /home/guerramarj/github/healthcareai/dataset\n",
      "model path = /home/guerramarj/github/healthcareai/models\n",
      "sys.path = ['/cm/local/apps/cuda/libs/current/pynvml', '/home/guerramarj/packages/anaconda3/envs/deeplearning/lib/python36.zip', '/home/guerramarj/packages/anaconda3/envs/deeplearning/lib/python3.6', '/home/guerramarj/packages/anaconda3/envs/deeplearning/lib/python3.6/lib-dynload', '', '/home/guerramarj/packages/anaconda3/envs/deeplearning/lib/python3.6/site-packages', '/home/guerramarj/packages/anaconda3/envs/deeplearning/lib/python3.6/site-packages/Mako-1.0.7-py3.6.egg', '/home/guerramarj/packages/anaconda3/envs/deeplearning/lib/python3.6/site-packages/IPython/extensions', '/home/guerramarj/.ipython', '/home/guerramarj/github/healthcareai', '/home/guerramarj/github/healthcareai/utils', '/home/guerramarj/github/healthcareai/src']\n"
     ]
    }
   ],
   "source": [
    "project_name = 'healthcareai'\n",
    "project_path = Path(os.getcwd()).parent\n",
    "\n",
    "if sys.platform == \"win32\":\n",
    "    data_path = 'D:\\Dataset\\{0}\\dataset'.format(project_name)\n",
    "    model_path = 'D:\\Dataset\\{0}\\models'.format(project_name)\n",
    "    src_path = '/Volumes/Dataset/{0}/src'.format(project_name)\n",
    "    \n",
    "elif sys.platform == 'darwin':\n",
    "    data_path = '/Volumes/Dataset/{0}/dataset'.format(project_name)\n",
    "    model_path = '/Volumes/Dataset/{0}/models'.format(project_name)\n",
    "    src_path = '/Volumes/Dataset/{0}/src'.format(project_name)\n",
    "    \n",
    "else:\n",
    "    data_path = Path(project_path, 'dataset')\n",
    "    model_path = Path(project_path, 'models')\n",
    "    src_path = Path(project_path, 'src')\n",
    "\n",
    "utils_path = str(Path(project_path, 'utils'))\n",
    "# including the project folder and the utils folder\n",
    "if utils_path not in ''.join(sys.path):\n",
    "    sys.path.extend([str(project_path), utils_path, str(src_path)])\n",
    "\n",
    "print('project path = {0}'.format(project_path))\n",
    "print('data path = {0}'.format(data_path))\n",
    "print('model path = {0}'.format(model_path))\n",
    "print('sys.path = {0}'.format(sys.path))"
   ]
  },
  {
   "cell_type": "code",
   "execution_count": 48,
   "metadata": {},
   "outputs": [],
   "source": [
    "from uszipcode import SearchEngine\n",
    "import pandas as pd\n",
    "import numpy as np"
   ]
  },
  {
   "cell_type": "code",
   "execution_count": 7,
   "metadata": {},
   "outputs": [],
   "source": [
    "search = SearchEngine()"
   ]
  },
  {
   "cell_type": "code",
   "execution_count": 33,
   "metadata": {},
   "outputs": [
    {
     "name": "stdout",
     "output_type": "stream",
     "text": [
      "SimpleZipcode(zipcode='19130', zipcode_type='Standard', major_city='Philadelphia', post_office_city='Philadelphia, PA', common_city_list=['Philadelphia', 'Phila'], county='Philadelphia County', state='PA', lat=39.97, lng=-75.18, timezone='Eastern', radius_in_miles=1.0, area_code_list=['215', '484', '610', '267'], population=24870, population_density=19213.0, land_area_in_sqmi=1.29, water_area_in_sqmi=0.09, housing_units=14360, occupied_housing_units=13089, median_home_value=340100, median_household_income=62721, bounds_west=-75.193731, bounds_east=-75.159442, bounds_north=39.978221, bounds_south=39.956122)\n",
      "\n",
      "latitute = 39.97\n",
      "longitute = -75.18\n"
     ]
    }
   ],
   "source": [
    "print(search.by_zipcode('19130'))\n",
    "print()\n",
    "print('latitute = {0}'.format(search.by_zipcode('19130').lat))\n",
    "print('longitute = {0}'.format(search.by_zipcode('19130').lng))"
   ]
  },
  {
   "cell_type": "code",
   "execution_count": 20,
   "metadata": {},
   "outputs": [],
   "source": [
    "data = pd.read_csv(Path(data_path, 'cancer_providers.csv'))"
   ]
  },
  {
   "cell_type": "code",
   "execution_count": 21,
   "metadata": {},
   "outputs": [
    {
     "data": {
      "text/html": [
       "<div>\n",
       "<style scoped>\n",
       "    .dataframe tbody tr th:only-of-type {\n",
       "        vertical-align: middle;\n",
       "    }\n",
       "\n",
       "    .dataframe tbody tr th {\n",
       "        vertical-align: top;\n",
       "    }\n",
       "\n",
       "    .dataframe thead th {\n",
       "        text-align: right;\n",
       "    }\n",
       "</style>\n",
       "<table border=\"1\" class=\"dataframe\">\n",
       "  <thead>\n",
       "    <tr style=\"text-align: right;\">\n",
       "      <th></th>\n",
       "      <th>National_Provider_Identifier</th>\n",
       "      <th>Provider_Type</th>\n",
       "      <th>Last_Name/Organization_Name_of_the_Provider</th>\n",
       "      <th>First_Name_of_the_Provider</th>\n",
       "      <th>Middle_Initial_of_the_Provider</th>\n",
       "      <th>Credentials_of_the_Provider</th>\n",
       "      <th>Gender_of_the_Provider</th>\n",
       "      <th>Street_Address_1_of_the_Provider</th>\n",
       "      <th>City_of_the_Provider</th>\n",
       "      <th>Zip_Code_of_the_Provider</th>\n",
       "      <th>State_Code_of_the_Provider</th>\n",
       "      <th>Country_Code_of_the_Provider</th>\n",
       "    </tr>\n",
       "  </thead>\n",
       "  <tbody>\n",
       "    <tr>\n",
       "      <th>0</th>\n",
       "      <td>1003001017</td>\n",
       "      <td>Dermatology</td>\n",
       "      <td>NICHOLS</td>\n",
       "      <td>LAWRENCE</td>\n",
       "      <td>M</td>\n",
       "      <td>M.D</td>\n",
       "      <td>M</td>\n",
       "      <td>5471 LA PALMA AVE</td>\n",
       "      <td>LA PALMA</td>\n",
       "      <td>906231745</td>\n",
       "      <td>CA</td>\n",
       "      <td>US</td>\n",
       "    </tr>\n",
       "    <tr>\n",
       "      <th>1</th>\n",
       "      <td>1003003153</td>\n",
       "      <td>Dermatology</td>\n",
       "      <td>MORRISON</td>\n",
       "      <td>LAURA</td>\n",
       "      <td>NaN</td>\n",
       "      <td>MD</td>\n",
       "      <td>F</td>\n",
       "      <td>904 7TH AVE</td>\n",
       "      <td>SEATTLE</td>\n",
       "      <td>981041132</td>\n",
       "      <td>WA</td>\n",
       "      <td>US</td>\n",
       "    </tr>\n",
       "    <tr>\n",
       "      <th>2</th>\n",
       "      <td>1003010687</td>\n",
       "      <td>Dermatology</td>\n",
       "      <td>PERRI</td>\n",
       "      <td>ANTHONY</td>\n",
       "      <td>J</td>\n",
       "      <td>MD</td>\n",
       "      <td>M</td>\n",
       "      <td>4015 INTERSTATE 45 N</td>\n",
       "      <td>CONROE</td>\n",
       "      <td>773044901</td>\n",
       "      <td>TX</td>\n",
       "      <td>US</td>\n",
       "    </tr>\n",
       "    <tr>\n",
       "      <th>3</th>\n",
       "      <td>1003011404</td>\n",
       "      <td>Dermatology</td>\n",
       "      <td>MCCOPPIN</td>\n",
       "      <td>HOLLY</td>\n",
       "      <td>H</td>\n",
       "      <td>M.D.</td>\n",
       "      <td>F</td>\n",
       "      <td>10600 MASTIN ST</td>\n",
       "      <td>OVERLAND PARK</td>\n",
       "      <td>662125723</td>\n",
       "      <td>KS</td>\n",
       "      <td>US</td>\n",
       "    </tr>\n",
       "    <tr>\n",
       "      <th>4</th>\n",
       "      <td>1003013384</td>\n",
       "      <td>Dermatology</td>\n",
       "      <td>OSLEBER</td>\n",
       "      <td>MICHAEL</td>\n",
       "      <td>F</td>\n",
       "      <td>MD</td>\n",
       "      <td>M</td>\n",
       "      <td>9601 BAPTIST HEALTH DRIVE, STE 860</td>\n",
       "      <td>LITTLE ROCK</td>\n",
       "      <td>72205</td>\n",
       "      <td>AR</td>\n",
       "      <td>US</td>\n",
       "    </tr>\n",
       "  </tbody>\n",
       "</table>\n",
       "</div>"
      ],
      "text/plain": [
       "   National_Provider_Identifier Provider_Type  \\\n",
       "0                    1003001017   Dermatology   \n",
       "1                    1003003153   Dermatology   \n",
       "2                    1003010687   Dermatology   \n",
       "3                    1003011404   Dermatology   \n",
       "4                    1003013384   Dermatology   \n",
       "\n",
       "  Last_Name/Organization_Name_of_the_Provider First_Name_of_the_Provider  \\\n",
       "0                                     NICHOLS                   LAWRENCE   \n",
       "1                                    MORRISON                      LAURA   \n",
       "2                                       PERRI                    ANTHONY   \n",
       "3                                    MCCOPPIN                      HOLLY   \n",
       "4                                     OSLEBER                    MICHAEL   \n",
       "\n",
       "  Middle_Initial_of_the_Provider Credentials_of_the_Provider  \\\n",
       "0                              M                         M.D   \n",
       "1                            NaN                          MD   \n",
       "2                              J                          MD   \n",
       "3                              H                        M.D.   \n",
       "4                              F                          MD   \n",
       "\n",
       "  Gender_of_the_Provider    Street_Address_1_of_the_Provider  \\\n",
       "0                      M                   5471 LA PALMA AVE   \n",
       "1                      F                         904 7TH AVE   \n",
       "2                      M                4015 INTERSTATE 45 N   \n",
       "3                      F                     10600 MASTIN ST   \n",
       "4                      M  9601 BAPTIST HEALTH DRIVE, STE 860   \n",
       "\n",
       "  City_of_the_Provider  Zip_Code_of_the_Provider State_Code_of_the_Provider  \\\n",
       "0             LA PALMA                 906231745                         CA   \n",
       "1              SEATTLE                 981041132                         WA   \n",
       "2               CONROE                 773044901                         TX   \n",
       "3        OVERLAND PARK                 662125723                         KS   \n",
       "4          LITTLE ROCK                     72205                         AR   \n",
       "\n",
       "  Country_Code_of_the_Provider  \n",
       "0                           US  \n",
       "1                           US  \n",
       "2                           US  \n",
       "3                           US  \n",
       "4                           US  "
      ]
     },
     "execution_count": 21,
     "metadata": {},
     "output_type": "execute_result"
    }
   ],
   "source": [
    "data.head()"
   ]
  },
  {
   "cell_type": "code",
   "execution_count": 22,
   "metadata": {},
   "outputs": [
    {
     "data": {
      "text/plain": [
       "Index(['National_Provider_Identifier', 'Provider_Type',\n",
       "       'Last_Name/Organization_Name_of_the_Provider',\n",
       "       'First_Name_of_the_Provider', 'Middle_Initial_of_the_Provider',\n",
       "       'Credentials_of_the_Provider', 'Gender_of_the_Provider',\n",
       "       'Street_Address_1_of_the_Provider', 'City_of_the_Provider',\n",
       "       'Zip_Code_of_the_Provider', 'State_Code_of_the_Provider',\n",
       "       'Country_Code_of_the_Provider'],\n",
       "      dtype='object')"
      ]
     },
     "execution_count": 22,
     "metadata": {},
     "output_type": "execute_result"
    }
   ],
   "source": [
    "data.keys()"
   ]
  },
  {
   "cell_type": "code",
   "execution_count": 26,
   "metadata": {},
   "outputs": [
    {
     "data": {
      "text/html": [
       "<div>\n",
       "<style scoped>\n",
       "    .dataframe tbody tr th:only-of-type {\n",
       "        vertical-align: middle;\n",
       "    }\n",
       "\n",
       "    .dataframe tbody tr th {\n",
       "        vertical-align: top;\n",
       "    }\n",
       "\n",
       "    .dataframe thead th {\n",
       "        text-align: right;\n",
       "    }\n",
       "</style>\n",
       "<table border=\"1\" class=\"dataframe\">\n",
       "  <thead>\n",
       "    <tr style=\"text-align: right;\">\n",
       "      <th></th>\n",
       "      <th>Street_Address_1_of_the_Provider</th>\n",
       "      <th>City_of_the_Provider</th>\n",
       "      <th>State_Code_of_the_Provider</th>\n",
       "      <th>Zip_Code_of_the_Provider</th>\n",
       "    </tr>\n",
       "  </thead>\n",
       "  <tbody>\n",
       "    <tr>\n",
       "      <th>0</th>\n",
       "      <td>5471 LA PALMA AVE</td>\n",
       "      <td>LA PALMA</td>\n",
       "      <td>CA</td>\n",
       "      <td>906231745</td>\n",
       "    </tr>\n",
       "    <tr>\n",
       "      <th>1</th>\n",
       "      <td>904 7TH AVE</td>\n",
       "      <td>SEATTLE</td>\n",
       "      <td>WA</td>\n",
       "      <td>981041132</td>\n",
       "    </tr>\n",
       "    <tr>\n",
       "      <th>2</th>\n",
       "      <td>4015 INTERSTATE 45 N</td>\n",
       "      <td>CONROE</td>\n",
       "      <td>TX</td>\n",
       "      <td>773044901</td>\n",
       "    </tr>\n",
       "    <tr>\n",
       "      <th>3</th>\n",
       "      <td>10600 MASTIN ST</td>\n",
       "      <td>OVERLAND PARK</td>\n",
       "      <td>KS</td>\n",
       "      <td>662125723</td>\n",
       "    </tr>\n",
       "    <tr>\n",
       "      <th>4</th>\n",
       "      <td>9601 BAPTIST HEALTH DRIVE, STE 860</td>\n",
       "      <td>LITTLE ROCK</td>\n",
       "      <td>AR</td>\n",
       "      <td>72205</td>\n",
       "    </tr>\n",
       "  </tbody>\n",
       "</table>\n",
       "</div>"
      ],
      "text/plain": [
       "     Street_Address_1_of_the_Provider City_of_the_Provider  \\\n",
       "0                   5471 LA PALMA AVE             LA PALMA   \n",
       "1                         904 7TH AVE              SEATTLE   \n",
       "2                4015 INTERSTATE 45 N               CONROE   \n",
       "3                     10600 MASTIN ST        OVERLAND PARK   \n",
       "4  9601 BAPTIST HEALTH DRIVE, STE 860          LITTLE ROCK   \n",
       "\n",
       "  State_Code_of_the_Provider  Zip_Code_of_the_Provider  \n",
       "0                         CA                 906231745  \n",
       "1                         WA                 981041132  \n",
       "2                         TX                 773044901  \n",
       "3                         KS                 662125723  \n",
       "4                         AR                     72205  "
      ]
     },
     "execution_count": 26,
     "metadata": {},
     "output_type": "execute_result"
    }
   ],
   "source": [
    "data[['Street_Address_1_of_the_Provider', 'City_of_the_Provider', 'State_Code_of_the_Provider',\n",
    "       'Zip_Code_of_the_Provider']].head()"
   ]
  },
  {
   "cell_type": "code",
   "execution_count": 53,
   "metadata": {},
   "outputs": [],
   "source": [
    "data['latitude'] = [0] * data.shape[0]\n",
    "data['longitude'] = [0] * data.shape[0]\n",
    "\n",
    "for zipc_ix, zipc in enumerate(data['Zip_Code_of_the_Provider']):\n",
    "    if len(str(zipc)) > 5:\n",
    "        zipc = int(str(zipc)[:5])\n",
    "    elif len(str(zipc)) < 5:\n",
    "        zipc = np.nan\n",
    "    data.loc[zipc_ix, 'latitude'] = search.by_zipcode(zipc).lat\n",
    "    data.loc[zipc_ix, 'longitude'] = search.by_zipcode(zipc).lng"
   ]
  },
  {
   "cell_type": "code",
   "execution_count": 55,
   "metadata": {},
   "outputs": [],
   "source": [
    "data.to_csv(Path(data_path, 'cancer_providers_lat_lng.csv'), index=False)"
   ]
  }
 ],
 "metadata": {
  "kernelspec": {
   "display_name": "deeplearning",
   "language": "python",
   "name": "deeplearning"
  },
  "language_info": {
   "codemirror_mode": {
    "name": "ipython",
    "version": 3
   },
   "file_extension": ".py",
   "mimetype": "text/x-python",
   "name": "python",
   "nbconvert_exporter": "python",
   "pygments_lexer": "ipython3",
   "version": "3.6.8"
  }
 },
 "nbformat": 4,
 "nbformat_minor": 2
}
